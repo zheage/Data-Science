{
 "cells": [
  {
   "attachments": {},
   "cell_type": "markdown",
   "metadata": {},
   "source": [
    "# Cramers-V\n",
    "\n",
    "O V-Cramer (também chamado de phi de crammer, $\\phi_c$) é uma medida de associação entre duas variáveis categóricas baseado nas estatísticas qui-quadrado de Pearson, com resposta sendo um valor entre 0 e 1."
   ]
  }
 ],
 "metadata": {
  "language_info": {
   "name": "python"
  },
  "orig_nbformat": 4
 },
 "nbformat": 4,
 "nbformat_minor": 2
}
