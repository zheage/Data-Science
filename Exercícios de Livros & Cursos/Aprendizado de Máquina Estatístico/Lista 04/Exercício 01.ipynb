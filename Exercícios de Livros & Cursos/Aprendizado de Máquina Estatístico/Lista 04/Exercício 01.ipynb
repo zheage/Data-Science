{
 "cells": [
  {
   "cell_type": "markdown",
   "metadata": {},
   "source": [
    "# Exercício 01"
   ]
  },
  {
   "cell_type": "markdown",
   "metadata": {},
   "source": [
    "Realizado no exercício 02 da lista 03. Criamos uma seção inteira sobre a diferença de tais algoritmos."
   ]
  }
 ],
 "metadata": {
  "language_info": {
   "name": "python"
  }
 },
 "nbformat": 4,
 "nbformat_minor": 2
}
