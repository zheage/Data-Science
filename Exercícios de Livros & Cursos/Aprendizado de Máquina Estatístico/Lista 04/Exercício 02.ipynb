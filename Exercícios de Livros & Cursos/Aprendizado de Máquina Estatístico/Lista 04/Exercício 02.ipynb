{
 "cells": [
  {
   "cell_type": "markdown",
   "metadata": {},
   "source": [
    "# Exercício 02"
   ]
  },
  {
   "cell_type": "markdown",
   "metadata": {},
   "source": [
    "Exercício realizado na [lista anterior.](https://github.com/zheage/Data-Science/blob/07a74c65ba583e53864e204d49e1fd41e08e9f7b/Exerc%C3%ADcios%20de%20Livros%20%26%20Cursos/Aprendizado%20de%20M%C3%A1quina%20Estat%C3%ADstico/Lista%2003/Exerc%C3%ADcio%2002.ipynb)"
   ]
  }
 ],
 "metadata": {
  "language_info": {
   "name": "python"
  }
 },
 "nbformat": 4,
 "nbformat_minor": 2
}
