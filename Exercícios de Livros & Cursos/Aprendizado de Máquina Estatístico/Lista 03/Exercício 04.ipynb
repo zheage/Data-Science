{
 "cells": [
  {
   "cell_type": "markdown",
   "metadata": {},
   "source": [
    "# Exercício 04"
   ]
  },
  {
   "cell_type": "markdown",
   "metadata": {},
   "source": [
    "Em relação as máquinas de vetores de suporte e sua complexidade computacional, isto depende do algoritmo:\n",
    "\n",
    "<center>\n",
    "\n",
    "|     Classe    |                 Complexidade                | Suporte out-of-core | Escalonamento exigido | Kernel trick |\n",
    "|:-------------:|:-------------------------------------------:|:-------------------:|:---------------------:|:------------:|\n",
    "|   LinearSVC   |                $O(m\\times n)$               |         Não         |          Sim          |      Não     |\n",
    "| SGDClassifier |                $O(m\\times n)$               |         Sim         |          Sim          |      Não     |\n",
    "|      SVC      | $O(m^2\\times n) \\text{ ou } O(m^3\\times n)$ |         Não         |          Sim          |      Sim     |\n",
    "\n",
    "</center>"
   ]
  },
  {
   "cell_type": "markdown",
   "metadata": {},
   "source": [
    "Tais algoritmos são de implementação complexa a depender do ponto de partida. O problema da implementação de um SVM pode ser resumido a um problema de programação quadrática, quais possuem diversos algoritmos já existentes capazes de encontrar as soluções necessárias para sua implementação. Caso queiramos uma implementação \"do zero\", então toda uma teoria de otimização quadrática é necessário, fazendo com que o problema se torne extremamente maçante.\n",
    "\n",
    "Seu tempo computacional depende da característica dos dados. Em problemas cuja separabilidade é linear, então o treinamento do algoritmo também acontecerá de forma linear. Em problemas não lineares o tempo será um pouco inferior ao tempo computacional, com sua performance dependendo da quantidade de características.\n",
    "\n",
    "Além disso, a técnica é eficiente em grandes bases de dados, uma vez que conforme a quantidade de dados aumenta, o tempo de execução do algoritmo aumenta de forma linear.\n",
    "\n",
    "O algoritmo é extremamente dependendo da utilização de funções kernel. Sua implementação original supõe que as classes são linearmente separáveis, o que não se verifica em quase nenhum problema do mundo real.\n",
    "\n",
    "Por fim, o algoritmo não faz nenhuma suposição sobre a distribuição de probabilidade dos dados e pode ser utilizado tanto em problemas de classificação quando de regressão."
   ]
  }
 ],
 "metadata": {
  "language_info": {
   "name": "python"
  }
 },
 "nbformat": 4,
 "nbformat_minor": 2
}
