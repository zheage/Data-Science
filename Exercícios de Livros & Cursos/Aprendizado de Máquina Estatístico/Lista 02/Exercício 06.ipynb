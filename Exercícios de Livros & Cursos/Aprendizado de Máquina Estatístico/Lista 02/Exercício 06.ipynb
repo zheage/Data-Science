{
 "cells": [
  {
   "cell_type": "markdown",
   "metadata": {},
   "source": [
    "# Exercício 06"
   ]
  },
  {
   "cell_type": "markdown",
   "metadata": {},
   "source": [
    "[Exercício foi desenvolvido e virou uma introdução a matriz de confusão em problemas com mais de duas classes.](https://github.com/zheage/Data-Science/blob/9bdf08ef2a3b1a0154c20258184203b8a2d792be/Aprendizado%20de%20M%C3%A1quina%20Estat%C3%ADstico/Sele%C3%A7%C3%A3o%20de%20Modelos%20%26%20M%C3%A9tricas/Matriz%20de%20Confus%C3%A3o%20para%20Classifica%C3%A7%C3%A3o%20Multiclasse.ipynb)"
   ]
  }
 ],
 "metadata": {
  "language_info": {
   "name": "python"
  },
  "orig_nbformat": 4
 },
 "nbformat": 4,
 "nbformat_minor": 2
}
