{
 "cells": [
  {
   "cell_type": "markdown",
   "metadata": {},
   "source": [
    "# Exercício 07"
   ]
  },
  {
   "cell_type": "markdown",
   "metadata": {},
   "source": [
    "## [Balanced Accuracy | The Balanced Accuracy and Its Posterior Distribution](https://ieeexplore.ieee.org/document/5597285)"
   ]
  },
  {
   "cell_type": "markdown",
   "metadata": {},
   "source": [
    "Métrica que busca resolver problemas da acurácia quando utilizada em dados desbalanceados. A métrica para casos binários é definida por:\n",
    "\n",
    "$$\\text{Acurácia Balanceada} = \\frac{\\text{Sensibilidade} + \\text{Especificidade}}{2} $$\n",
    "\n",
    "Basicamente é a média de elementos corretamente previstos de eventos e não-eventos."
   ]
  },
  {
   "cell_type": "markdown",
   "metadata": {},
   "source": [
    "## [Log Loss ou Entropia Cruzada | Intuition behind Log-loss score](https://towardsdatascience.com/intuition-behind-log-loss-score-4e0c9979680a) "
   ]
  },
  {
   "cell_type": "markdown",
   "metadata": {},
   "source": [
    "Utilizada em problemas de classificação quando queremos entender as discrepâncias entre as probabilidades previstas pelo modelo e as classes reais. Quanto menor seu valor, melhor a performance do modelo.\n",
    "\n",
    "A métrica é definida por:\n",
    "\n",
    "$$\\text{Log Loss} = - \\frac{1}{n} \\sum_{i=1}^n \\left[y_i \\ln(p_i) + (1-y_i) \\ln(1-p_i) \\right]$$"
   ]
  },
  {
   "cell_type": "markdown",
   "metadata": {},
   "source": [
    "## [Matthews Coeficiente (MCC) | Assessing the accuracy of prediction algorithms for classification: an overview ](https://academic.oup.com/bioinformatics/article/16/5/412/192336?login=false)"
   ]
  },
  {
   "cell_type": "markdown",
   "metadata": {},
   "source": [
    "Métrica que atinge valores no intervalo $[-1, 1]$, com $1$ representando a predição perfeita, $0$ uma predição aleatória e $-1$ uma discordância completa entre as previsões e as classes reais.\n",
    "\n",
    "É definido por:\n",
    "\n",
    "$$\\text{MCC} = \\frac{\n",
    "    \\text{TP}\\cdot \\text{TN} - \\text{FP} \\cdot \\text{FN}\n",
    "}{\n",
    "    \\sqrt{\n",
    "        (\\text{TP+FP})(\\text{TP+FN})(\\text{TN+FP})(\\text{TN+FN})\n",
    "    }\n",
    "}$$"
   ]
  },
  {
   "cell_type": "markdown",
   "metadata": {},
   "source": [
    "## [Hamming Loss | Multi-Label Classification: An Overview. International Journal of Data Warehousing & Mining](https://www.researchgate.net/publication/273859036_Multi-Label_Classification_An_Overview)"
   ]
  },
  {
   "cell_type": "markdown",
   "metadata": {},
   "source": [
    "## [Cohen Kappa Score | “A coefficient of agreement for nominal scales](https://journals.sagepub.com/doi/10.1177/001316446002000104)"
   ]
  }
 ],
 "metadata": {
  "language_info": {
   "name": "python"
  },
  "orig_nbformat": 4
 },
 "nbformat": 4,
 "nbformat_minor": 2
}
