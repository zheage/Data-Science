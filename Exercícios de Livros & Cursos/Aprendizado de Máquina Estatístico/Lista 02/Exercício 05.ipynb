{
 "cells": [
  {
   "cell_type": "markdown",
   "metadata": {},
   "source": [
    "# Exercício 05"
   ]
  },
  {
   "cell_type": "markdown",
   "metadata": {},
   "source": [
    "Vamos comentar de cada métrica individualmente.\n",
    "\n",
    "## Acurácia\n",
    "\n",
    "Fácil de interpretar, intuitiva e carro chefe quando trabalhamos com problemas de classificação. É a porcentagem de elementos corretamente classificados pel o modelo.\n",
    "A métrica é indicada quando as bases de dados são relativamente balanceadas. Quanto mais desbalanceada a base, mais a acurácia terá um viés para a classe majoritária.\n",
    "\n",
    "# Precisão\n",
    "\n",
    "Precisão é a quantidade de elementos que foram classificados como eventos e estão corretamente classificados. Importante para entendermos o quão corretas estão as predições do modelo.\n",
    "\n",
    "# Recall\n",
    "\n",
    "Recall é a quantidade de eventos corretamente classificados pelo modelo. Importante de ser analisado quando cometer eventos como não-eventos é muito custoso pelo modelo. \n",
    "\n",
    "# F1-Score\n",
    "\n",
    "Média geométrica entre Precisão e Recall. É uma média para nós estatísticos sabermos o _trade-off_ que está acontecendo entre a precisão e recall do modelo. Bastante útil para compararmos diferentes modelos.\n",
    "\n",
    "# AUC\n",
    "\n",
    "Métrica obtida calculando o gráfico da curva ROC. "
   ]
  }
 ],
 "metadata": {
  "language_info": {
   "name": "python"
  },
  "orig_nbformat": 4
 },
 "nbformat": 4,
 "nbformat_minor": 2
}
