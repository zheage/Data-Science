{
 "cells": [
  {
   "cell_type": "markdown",
   "metadata": {},
   "source": [
    "# Otimizador SGD (Stochastic Gradient Descent)"
   ]
  },
  {
   "cell_type": "markdown",
   "metadata": {},
   "source": [
    "Um dos otimizadores mais clássicos na área de aprendizado de máquina. Método que visa minimizar a função de perda utilizando o método da descida do gradiente.\n",
    "\n",
    "> A parte **estocástica** se deve ao fato do algoritmo calcular o gradiente da função de perda para uma amostra do conjunto de treinamento em cada passo, tornando o processo mais rápido e eficiente, embora possa introduzir ruído no treinamento do algoritmo como um todo.\n",
    "\n",
    "O algoritmo pode ser visto no seguinte esquema a seguir:\n",
    "\n",
    "1. Divisão do conjunto de dados em pequenos lotes aleatórios, geralmente chamados de *mini lotes* ou *batches*;\n",
    "2. Percorrer cada lote de forma iterativa, de forma que:\n",
    "   - Calculemos o gradiente da função de perda em relação aos parâmetros do modelo $\\nabla L(y;\\hat{y})$;\n",
    "   - Os parâmetros do algoritmo são atualizados na direção oposta do gradiente da função:\n",
    "   $$w_{(i+1)} = w_i - \\eta \\nabla L(y;\\hat{y}) $$\n",
    "3. Caso o parâmetro **momentum** seja selecionado, guardamos informações do gradiente descendente anterior de forma que este contribua na atualização do peso atual, dessa forma os pesos são ajustados da seguinte maneira:\n",
    "   $$w_{(i+1)} = w_i + \\text{momentum} \\cdot w_i - \\eta \\nabla L(y;\\hat{y}) $$"
   ]
  },
  {
   "cell_type": "markdown",
   "metadata": {},
   "source": [
    "| Vantagens | Desvantagens |\n",
    "|:---:|:---:|\n",
    "| Eficiente para treinar modelos em grandes conjuntos de dados, uma vez que usa apenas pequeno lotes para cada iteração | Aleatorização devido à aleatoridade dos mini lotes,  levando a necessidade de uma otimização manual para a taxa de aprendizado |\n",
    "| Atualização contínua conforme novos dados chegam no modelo, ] os pesos podem ser atualizados em tempo real com a geração de novos mini lotes | Convergência não garantida, uma vez que o mínimo global da função de perda  pode ficar preso em mínimos locais |"
   ]
  },
  {
   "cell_type": "code",
   "execution_count": 4,
   "metadata": {},
   "outputs": [],
   "source": [
    "from keras.models import Sequential\n",
    "from keras.layers import Dense\n",
    "from keras.optimizers import SGD\n",
    "\n",
    "model = Sequential()\n",
    "\n",
    "model.add(\n",
    "    Dense(128, input_dim=20, activation='relu')\n",
    ")\n",
    "\n",
    "model.add(\n",
    "    Dense(1, activation='sigmoid')\n",
    ")\n",
    "\n",
    "sgd = SGD(learning_rate = 0.01)  # Defina a taxa de aprendizado conforme necessário\n",
    "\n",
    "model.compile(\n",
    "    loss='binary_crossentropy',\n",
    "    optimizer=sgd,\n",
    "    metrics=['accuracy']\n",
    ")\n"
   ]
  }
 ],
 "metadata": {
  "kernelspec": {
   "display_name": "Python 3",
   "language": "python",
   "name": "python3"
  },
  "language_info": {
   "codemirror_mode": {
    "name": "ipython",
    "version": 3
   },
   "file_extension": ".py",
   "mimetype": "text/x-python",
   "name": "python",
   "nbconvert_exporter": "python",
   "pygments_lexer": "ipython3",
   "version": "3.11.5"
  }
 },
 "nbformat": 4,
 "nbformat_minor": 2
}
