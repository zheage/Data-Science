{
 "cells": [
  {
   "attachments": {},
   "cell_type": "markdown",
   "metadata": {},
   "source": [
    "# Introdução a Busca Informada"
   ]
  },
  {
   "attachments": {},
   "cell_type": "markdown",
   "metadata": {},
   "source": [
    "Método que possui informações complementares sobre a qualidade dos estados durante o processo de busca, sendo útil em uma grande quantidade de problemas, uma vez que a **Busca não informada** é ineficiente quando o espaço de busca é grande.\n",
    "\n",
    "Para melhorar isto, adicionamos **heurísticas** para guiar o processo de busca, eliminando caminhos e estados que não são promissores. \n",
    "\n",
    "> Heurística é uma função $h(n)$ que modela conhecimento específico do problema na escolha do próximo nó a ser expandido.\n",
    "> - $h(n)$ é o custo estimado do caminho do estado $n$ até o estado final;\n",
    "> - $h(\\text{estado\\_final}) = 0$.\n",
    "\n",
    "A escolha de uma **heurística** é quase uma arte. Para isto devemos entender o problema. Além disso, é importante termos uma heurística admissível, isto é, que nunca subestime o custo real do caminho:\n",
    "\n",
    "$$h(n) \\leq h^*$$\n",
    "\n",
    "onde $h^*$ é o custo real do caminho."
   ]
  }
 ],
 "metadata": {
  "language_info": {
   "name": "python"
  },
  "orig_nbformat": 4
 },
 "nbformat": 4,
 "nbformat_minor": 2
}
