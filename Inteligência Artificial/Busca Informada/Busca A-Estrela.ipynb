{
 "cells": [
  {
   "attachments": {},
   "cell_type": "markdown",
   "metadata": {},
   "source": [
    "# Busca A*"
   ]
  },
  {
   "attachments": {},
   "cell_type": "markdown",
   "metadata": {},
   "source": [
    "Combina **Busca em Largura** e **Profundidade** usando combinações de **heurísticas**. Para isto, definimos uma heurística $h(n)$ e uma função que estime o custo real para se chegar ao n-ésimo estado, chamada $g(n)$.\n",
    "\n",
    "O custo de um estado passa a ser então dada pela soma de ambos os custos:\n",
    "\n",
    "$$f(n) = g(n) + h(n).$$"
   ]
  }
 ],
 "metadata": {
  "language_info": {
   "name": "python"
  },
  "orig_nbformat": 4
 },
 "nbformat": 4,
 "nbformat_minor": 2
}
