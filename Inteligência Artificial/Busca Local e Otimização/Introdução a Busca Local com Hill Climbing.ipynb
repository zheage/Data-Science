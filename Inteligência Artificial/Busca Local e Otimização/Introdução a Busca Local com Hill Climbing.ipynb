{
 "cells": [
  {
   "attachments": {},
   "cell_type": "markdown",
   "metadata": {},
   "source": [
    "# Introdução a Busca Local com Hill Climbing"
   ]
  },
  {
   "attachments": {},
   "cell_type": "markdown",
   "metadata": {},
   "source": [
    "Problemas de Busca Local são aqueles onde o objetivo é encontrar a melhor solução possível em um espaço de soluções, sem se importar em qual é o caminho necessário para esta solução. No geral, estes problemas referem-se a maximização/minimização de uma função objetivo, sujeita a uma série de restrições.\n",
    "\n",
    "Um problema clássico é o da mochila:\n",
    "\n",
    "|    **Objeto $(j)$**   \t| 1 \t| 2 \t| 3 \t| 4 \t| 5 \t|\n",
    "|:---------------------:\t|:-:\t|:-:\t|:-:\t|:-:\t|:-:\t|\n",
    "|    **Peso $(w_j)$**   \t| 4 \t| 5 \t| 7 \t| 9 \t| 6 \t|\n",
    "| **Benefício $(p_j)$** \t| 2 \t| 2 \t| 3 \t| 4 \t| 4 \t|\n",
    "\n",
    "A mochila tem capacidade de 23 kg, temos 5 objetos para carregar. Quais objetos carregaremos?"
   ]
  },
  {
   "cell_type": "markdown",
   "metadata": {},
   "source": [
    "# Algoritmo Hill-Climbing"
   ]
  },
  {
   "attachments": {},
   "cell_type": "markdown",
   "metadata": {},
   "source": [
    "- Movimentos próximo ao estado são escolhidos na direção de valores crescentes/não decrescentes da função de avaliação;\n",
    "- A solução é encontrada quando um pico é alcançado\n",
    "- A estratégia é considerada como *gulosa*\n",
    "\n",
    "```\n",
    "1. Escolha de um estado inicial do espaço de busca;\n",
    "2. Considerar todos os vizinhos (estados sucessores) possíveis;\n",
    "3. Mover para o vizinho com maior qualidade;\n",
    "4. Repetir os passos 2 e 3 até que todos os vizinhos tenham uma qualidade menor que o estado atual.\n",
    "```\n",
    "\n",
    "Análise do Hill-Climbing:\n",
    "\n",
    "- Complexidade de Tempo:\n",
    "  - Número de estados visitados até \"convergir\";\n",
    "  - Depende do problema\n",
    "- Complexidade de Espaço:\n",
    "  - $O(1)$;\n",
    "  - Armazena somente o estado atual\n",
    "- Completo: Sim (cada estado é uma solução)\n",
    "- Ótimo: Não (depende da inicialização)\n",
    "\n",
    "Existem diversas variações do Hill-Climbing, dentre as mais famosas:\n",
    "\n",
    "- **Original:** visita para o próximo estado no valor da função objetivo;\n",
    "- **First-choice:** sorteia algum estado dentre um conjunto de estados vizinhos que melhoram o valor atual. Vantajoso em problemas com muitas variáveis e grande quantidade de vizinhos;\n",
    "- **Random-Restart:** Múltiplas execuções do hill-climbing considerando diferentes estados iniciais. "
   ]
  }
 ],
 "metadata": {
  "language_info": {
   "name": "python"
  },
  "orig_nbformat": 4
 },
 "nbformat": 4,
 "nbformat_minor": 2
}
