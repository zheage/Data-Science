{
 "cells": [
  {
   "attachments": {},
   "cell_type": "markdown",
   "metadata": {},
   "source": [
    "# Análise de Complexidade"
   ]
  },
  {
   "attachments": {},
   "cell_type": "markdown",
   "metadata": {},
   "source": [
    "Em algoritmos de Busca estamos interessados em quão complexos e interessantes são os algoritmos estudados, sempre interessados nas seguintes perguntas:\n",
    "\n",
    "- **Complexidade de tempo:** Qual é o número de estados visitados pelo modelo?\n",
    "- **Complexidade de espaço:** Qual é a quantidade de estados que precisam ser colocados em memória?\n",
    "- **Completude:** Se existe alguma solução, o algoritmo é capaz de encontrá-la?\n",
    "- **Ótimo:** Se existe uma solução ótima (a que ocorrer no menor número de passos possíveis) o algoritmo é capaz de encontrá-la?"
   ]
  }
 ],
 "metadata": {
  "language_info": {
   "name": "python"
  },
  "orig_nbformat": 4
 },
 "nbformat": 4,
 "nbformat_minor": 2
}
