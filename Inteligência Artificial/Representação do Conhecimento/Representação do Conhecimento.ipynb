{
 "cells": [
  {
   "attachments": {},
   "cell_type": "markdown",
   "metadata": {},
   "source": [
    "# Representação de Conhecimento\n",
    "\n",
    "Grande parte dos problemas relacionados a **Inteligência Artificial** estão relacionados a dificuldade em representar o conhecimento do mundo real para os computadores, de forma que estes sejam tratáveis por meios de algoritmos e métodos já estabelecidos.\n",
    "\n",
    "- Como você desenha um quadro?\n",
    "- Como você faz para escrever uma redação?\n",
    "- Como você escolhe um filme para assistir?\n",
    "\n",
    "São perguntas cuja respostas sempre terão uma dose de imprecisão e incerteza inerentes.\n",
    "\n",
    "Neste contexto, queremos representar problemas por meio de uma linguagem formal, com uma semântica bem definida e convenções estabelecidas. Queremos um esquema de representação que seja capaz de:\n",
    "\n",
    "- Representar objetos;\n",
    "- Representar as propriedades dos objetos;\n",
    "- Mapear relacionamentos entre os objetos.\n",
    "\n",
    "De forma que a representação seja:\n",
    "\n",
    "- **Transparente:** permitindo que o entendimento do problema seja feito por qualquer pessoa;\n",
    "- **Rápida:** viabilizar recuperação ded informação de maneira eficiente\n",
    "- **Computável:** até porque estamos falando de computadores.\n",
    "\n",
    "Dessa forma, vamos representar o conhecimento por meio de nós e arestas rotuladas.\n",
    "\n",
    "<p align = \"center\">\n",
    "    <img src = \"https://upload.wikimedia.org/wikipedia/commons/thumb/6/67/Semantic_Net.svg/1200px-Semantic_Net.svg.png\" width = 600>\n",
    "</p>\n",
    "\n",
    "Busca em redes semânticas podem ser usadas tanto para explicar o conhecimento, tanto para encontrar novas informações entre objetos. Para realizar tais buscas, podem ser utilizados tanto oss métodos de Busca em Largura quanto Busca em profundidade."
   ]
  }
 ],
 "metadata": {
  "language_info": {
   "name": "python"
  },
  "orig_nbformat": 4
 },
 "nbformat": 4,
 "nbformat_minor": 2
}
