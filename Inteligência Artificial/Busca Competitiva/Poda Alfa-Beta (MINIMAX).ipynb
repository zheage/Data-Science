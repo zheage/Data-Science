{
 "cells": [
  {
   "attachments": {},
   "cell_type": "markdown",
   "metadata": {},
   "source": [
    "# Poda Alfa-Beta\n",
    "\n",
    "Extensão do algoritmo **MINIMAX** que não visita sub-árvores desnecessárias, visando resolver o problema onde toda a árvore de busca não pode ser explorada.\n",
    "\n",
    "- **Alfa:** Maior valor da função de utilidade até agora;\n",
    "- **Beta:** Menor valor da função de utilidade até agora;\n",
    "\n",
    "Simulador do jogo: https://pascscha.ch/info2/abTreePractice/"
   ]
  }
 ],
 "metadata": {
  "language_info": {
   "name": "python"
  },
  "orig_nbformat": 4
 },
 "nbformat": 4,
 "nbformat_minor": 2
}
