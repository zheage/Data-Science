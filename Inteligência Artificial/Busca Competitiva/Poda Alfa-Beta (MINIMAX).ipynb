{
 "cells": [
  {
   "attachments": {},
   "cell_type": "markdown",
   "metadata": {},
   "source": [
    "# Poda Alfa-Beta\n",
    "\n",
    "Extensão do algoritmo **MINIMAX** que não visita sub-árvores desnecessárias, visando resolver o problema onde toda a árvore de busca não pode ser explorada.\n",
    "\n",
    "- **Alfa:** Valor da melhor escolha encontrada até um momento no caminho para **MAX** e não pode decrescer;\n",
    "  - Usado nos estados **MIN** para decisão de Poda;\n",
    "- **Beta:** Valor da melhor escolha encontrada até o momento no caminho MIN e **não** pode aumentar;\n",
    "  - Usado nos estados **MAX** para decisão de poda;\n",
    "\n",
    "Simulador do jogo: https://pascscha.ch/info2/abTreePractice/"
   ]
  }
 ],
 "metadata": {
  "language_info": {
   "name": "python"
  },
  "orig_nbformat": 4
 },
 "nbformat": 4,
 "nbformat_minor": 2
}
