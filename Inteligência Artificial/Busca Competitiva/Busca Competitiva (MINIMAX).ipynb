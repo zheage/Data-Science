{
 "cells": [
  {
   "attachments": {},
   "cell_type": "markdown",
   "metadata": {},
   "source": [
    "# Busca Competitiva (Adversarial Search)\n",
    "\n",
    "- Algoritmo de busca onde há oponentes/adversários;\n",
    "- Cada agente tem que levar em consideração movimentos do oponente;\n",
    "\n",
    "Para modelar isto é necessário considerar:\n",
    "\n",
    "- **Estado inicial:** posição inicial do tabuleiro e identificação de quem fará o próximo movimento;\n",
    "- **Função sucessor:** movimentos possíveis para cada jogador;\n",
    "- **Estado final:** estado final do jogo;\n",
    "- **Função de utilidade:** valor numérico que representa o quão bom é um estado para um jogador;\n",
    "\n",
    "O algoritmo assume o princípio de **soma zero**, isto é, tem como hipótese que a mesma função de utilidade determina a qualidade para ambos os agentes.\n",
    "\n",
    "- O jogador(máquina) tenta **maximizar** a função de utilidade;\n",
    "- O oponente tenta **minimizar** a função de utilidade;\n",
    "\n",
    "Assim, dada uma árvore de busca, a estratégia ótima é dada pelo valor *minimax* de cada estado.\n",
    "\n",
    "No geral, o algoritmo pode ser resumido no seguinte pseudocódigo:\n",
    "\n",
    "```\n",
    "- Gerar a árvore do jogo;\n",
    "- Calcular a função de utilidade para estados finais;\n",
    "- Propagar a utilidade dos terminais para níveis superiores\n",
    "    - Se o nível superior for de um oponente, minimizar a utilidade;\n",
    "    - Se o nível superior for do jogador, maximizar a utilidade;\n",
    "- No estado raiz, escolher a decisão que leva ao estado com maior utilidade;\n",
    "```\n",
    "\n",
    "Como o algoritmo assume que ambos os agentes escolherão o melhor caso, se este não ocorrer o algoritmo convergirá para uma vitória ainda mais rapidamente.\n",
    "\n",
    "## Propriedades do Minimax\n",
    "\n",
    "- Equivalente a uma busca em profundidade na árvore do jogo;\n",
    "- É completo se a árvore é finita;\n",
    "- É ótimo contra um oponente ótimo;\n",
    "- Complexidade do tempo é $O(b^m)$\n",
    "- Complexidade de espaço é $O(bm)$\n",
    "\n",
    "sendo $b$ o fator de ramificação e $m$ a profundidade da árvore do jogo."
   ]
  }
 ],
 "metadata": {
  "kernelspec": {
   "display_name": "Python 3",
   "language": "python",
   "name": "python3"
  },
  "language_info": {
   "codemirror_mode": {
    "name": "ipython",
    "version": 3
   },
   "file_extension": ".py",
   "mimetype": "text/x-python",
   "name": "python",
   "nbconvert_exporter": "python",
   "pygments_lexer": "ipython3",
   "version": "3.10.11"
  },
  "orig_nbformat": 4
 },
 "nbformat": 4,
 "nbformat_minor": 2
}
