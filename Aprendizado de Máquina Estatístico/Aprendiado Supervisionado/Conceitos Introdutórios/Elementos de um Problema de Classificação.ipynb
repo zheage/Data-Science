{
 "cells": [
  {
   "cell_type": "markdown",
   "metadata": {},
   "source": [
    "# Elementos de um Problema de Classificação"
   ]
  },
  {
   "cell_type": "markdown",
   "metadata": {},
   "source": [
    "Em problemas de classificação a função de risco precisa ser atualizada, é comum utilizar\n",
    "\n",
    "$$ R(g) \\coloneqq \\mathbb{E}[\\mathbb{I}(Y\\neq g(X))]  = \\mathbb{P} (Y\\neq g(X))$$\n",
    "\n",
    "Assim, o risco de uma classificação passa ser a **probabilidade de erro** em uma observação. \n",
    "\n",
    "A melhor função de classificação $g$ que minimize a função de risco proposta é dada por\n",
    "\n",
    "$$ g(X) = \\arg \\min_{d\\in C} P(Y=d| X)"
   ]
  }
 ],
 "metadata": {
  "language_info": {
   "name": "python"
  },
  "orig_nbformat": 4
 },
 "nbformat": 4,
 "nbformat_minor": 2
}
