{
 "cells": [
  {
   "cell_type": "markdown",
   "metadata": {},
   "source": [
    "# Regressão Linear"
   ]
  },
  {
   "cell_type": "markdown",
   "metadata": {},
   "source": [
    "Método paramétrico que utiliza uma forma linear para a função de predição, com esta sendo escrita como:\n",
    "\n",
    "$$\n",
    "g(x) = \\beta^TX = \\beta_0X_0+\\cdots+\\beta_pX_p,\n",
    "$$\n",
    "\n",
    "sendo $X_0 \\equiv 1$ e $\\beta=(\\beta_0,\\dots, \\beta_p).$ \n",
    "\n",
    "- importante destacar que $X_i$ não é necessariamente a i-ésima variável original, com novas podendo ser criadas a partir das originais ($X_i^2, X_i^3, \\ln X_i$ e etc).\n",
    "\n",
    "Buscamos encontrar $\\beta$ de forma que a soma dos quadrados dos resíduos seja minimizada:\n",
    "\n",
    "$$\n",
    "\\hat{\\beta} = \\arg \\min_\\beta \\sum_{i=1}^n (Y_i-\\beta X)^2.\n",
    "$$\n",
    "\n",
    "A solução deste problema é dada por:\n",
    "\n",
    "$$\n",
    "\\hat{\\beta} = (X^TX)^{-1}X^TY.\n",
    "$$\n",
    "\n",
    "Portanto, a função de regressão é estimada por\n",
    "\n",
    "$$\n",
    "g(x) = \\hat{\\beta}^TX.\n",
    "$$\n",
    "\n",
    "> “*A suposição de que a regressão real é linear muitas vezes não é válida. Apesar disso, é possível demonstrar que a regressão obtida pelo método dos mínimos quadrados converge para o melhor preditor linear dentre os existentes.”*\n",
    "\n",
    "Lembretes importantes para o método de regressão linear:\n",
    "\n",
    "- Quando há muitas covariáveis o método facilmente sofre de *overfitting;*\n",
    "- Quando a quantidade de covariáveis é maior que a quantidade de exemplos o estimador não está bem definido."
   ]
  },
  {
   "cell_type": "markdown",
   "metadata": {},
   "source": [
    "# Como estimar $\\beta$?"
   ]
  }
 ],
 "metadata": {
  "language_info": {
   "name": "python"
  },
  "orig_nbformat": 4
 },
 "nbformat": 4,
 "nbformat_minor": 2
}
