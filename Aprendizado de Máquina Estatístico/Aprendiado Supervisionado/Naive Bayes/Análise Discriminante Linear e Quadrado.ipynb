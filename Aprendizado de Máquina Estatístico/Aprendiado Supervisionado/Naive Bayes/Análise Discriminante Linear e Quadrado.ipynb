{
 "cells": [
  {
   "cell_type": "markdown",
   "metadata": {},
   "source": [
    "# Análise Discriminante Linear e Quadrado"
   ]
  },
  {
   "cell_type": "markdown",
   "metadata": {},
   "source": [
    "A Análise Discriminante é um caso particular do algoritmo **Naive Bayes**, onde supomos que o vetor de covariáveis $X$, condicionado em $Y=c$, possui distribuição normal multivariada.\n",
    "\n",
    "Existem duas formas mais comuns da análise discriminante, entre elas:"
   ]
  },
  {
   "cell_type": "markdown",
   "metadata": {},
   "source": [
    "# Análise Discriminante Linear"
   ]
  },
  {
   "cell_type": "markdown",
   "metadata": {},
   "source": [
    "Assume que cada distribuição condicional $X|Y=c$ segue uma distribuição normal multivariada com matriz de variâncias igual para cada classe, isto é:\n",
    "\n",
    "$$\n",
    "X=(X_1,\\dots, X_p)|Y=c\\sim \\text{Normal}(\\mu_c, \\Sigma)\n",
    "$$\n",
    "\n",
    "ou seja,\n",
    "\n",
    "$$\n",
    "f(x|Y=c)=\\frac{1}{\\sqrt{(2\\pi)^d|\\Sigma|}}e^{-(x-\\mu_c)^T\\Sigma^{-1}(x-\\mu_c)}\n",
    "$$\n",
    "\n",
    "Podemos estimar os parâmetros dessa distribuição utilizando os métodos da máxima verossimilhança\n",
    "\n",
    "$$\n",
    "\\widehat{\\mu_c} = \\frac{1}{|C_c|} \\sum_{k\\in C_c} X_k, \\quad \\widehat{\\Sigma} = \\frac{1}{n}\\sum_{n\\in C}\\sum_{k\\in C_c} (x_k-\\widehat{\\mu_c})(x_k-\\widehat{\\mu_c})^T\n",
    "$$\n",
    "\n",
    "em que $C_c=\\left\\{j=1,\\dots,n:Y_j=c \\right\\}$."
   ]
  },
  {
   "cell_type": "markdown",
   "metadata": {},
   "source": [
    "# Análise Discriminante Quadrática"
   ]
  },
  {
   "cell_type": "markdown",
   "metadata": {},
   "source": [
    "Muitas vezes a suposição de que a variância é a mesma para cada covariável é muito forte. Dessa forma, podemos alterar essa suposição permitindo que cada distribuição condicional tenha sua própria covariância. Assim, assuma-se que:\n",
    "\n",
    "$$\n",
    "X=(X_1,\\dots, X_d)|Y=c\\sim \\text{Normal}(\\mu_c, \\Sigma_c)\n",
    "$$\n",
    "\n",
    "Dessa forma,\n",
    "\n",
    "$$\n",
    "f(x|Y=c)=\\frac{1}{\\sqrt{(2\\pi)^d|\\Sigma_c|}}e^{-(x-\\mu_c)^T\\Sigma_c^{-1}(x-\\mu_c)}\n",
    "$$\n",
    "\n",
    "Novamente, podemos estimar esses parâmetros pelo método da máxima verossimilhança:\n",
    "\n",
    "$$\n",
    "\\widehat{\\mu_c} = \\frac{1}{|C_c|} \\sum_{k\\in C_c} X_k, \\quad \\widehat{\\Sigma_c} = \\frac{1}{|C_c|}\\sum_{k\\in C_c}(x_k-\\widehat{\\mu_c})(x_k-\\widehat{\\mu_c})^T\n",
    "$$\n",
    "\n",
    "em que $C_c=\\left\\{j=1,\\dots,n:Y_j=c \\right\\}$."
   ]
  }
 ],
 "metadata": {
  "language_info": {
   "name": "python"
  },
  "orig_nbformat": 4
 },
 "nbformat": 4,
 "nbformat_minor": 2
}
