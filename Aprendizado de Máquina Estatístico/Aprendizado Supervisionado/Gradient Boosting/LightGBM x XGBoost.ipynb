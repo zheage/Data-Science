{
 "cells": [
  {
   "cell_type": "markdown",
   "metadata": {},
   "source": [
    "# LightGBM x XGBoost"
   ]
  },
  {
   "cell_type": "markdown",
   "metadata": {},
   "source": [
    "Ah, de longe os dois maiores algoritmos de Gradient Boosting disponível em bibliotecas de machine learning! Apesar de uma grande variedade de algoritmos, estes com certeza são os mais populares.\n",
    "\n",
    "<p align=\"center\"> <img src=\"GBMvsLightGBM.png\" width=\"800\"> </p>\n",
    "\n",
    "De início, a maior diferença entre os algoritmos está em como as árvores de decisão que compõem o algoritmo são geradas:\n",
    "\n",
    "- **XGBoost:** Cada árvore de decisão é treinada de forma que todos os nós cresçam de forma simultânea;\n",
    "- **LightGBM:** As árvores são ajustadas de forma que apenas um nó por vez se expanda."
   ]
  }
 ],
 "metadata": {
  "language_info": {
   "name": "python"
  }
 },
 "nbformat": 4,
 "nbformat_minor": 2
}
