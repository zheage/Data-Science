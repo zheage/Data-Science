{
 "cells": [
  {
   "cell_type": "markdown",
   "metadata": {},
   "source": [
    "# Introdução"
   ]
  },
  {
   "cell_type": "markdown",
   "metadata": {},
   "source": [
    "Support Vector Machines (SVM) é uma técnica que visa a construção de hiperplano para predição em problemas de classificação e/ou regressão. Em particular, para a classificação o objetivo é encontrar o hiperplano que consegue obter a maior margem possível entre as classes.\n",
    "\n",
    "<p align=\"center\"> <img src=\"SVM_hyperplane.jpg\" width=\"550\"> </p>\n",
    "\n",
    "> Chamamos de **margem** a menor distância de uma observação até o hiperplano de suporte. \n",
    "\n",
    "Tal hiperplano pode ser calculado resolvendo um problema de otimização. Inicialmente definamos $y\\in \\left\\{-1, 1\\right\\}$. A fórmula do hiperplano é dada por:\n",
    "\n",
    "$$w^T x+b.$$\n",
    "\n",
    "Estamos interessados em prever instâncias a partir do lado em que estas estão do hiperplano separador, em resumo:\n",
    "\n",
    "$$\n",
    "\\hat{y} =\n",
    "\\left\\{\\begin{matrix}\n",
    "1 \\text{ se } w^t+b \\geq 0\\\\ \n",
    "0 \\text{ se } w^t+b < 0\n",
    "\\end{matrix}\\right.\n",
    "$$"
   ]
  },
  {
   "cell_type": "markdown",
   "metadata": {},
   "source": [
    "# Complexidade computacional\n",
    "\n",
    "<center>\n",
    "\n",
    "|     Classe    |                 Complexidade                | Suporte out-of-core | Escalonamento exigido | Kernel trick |\n",
    "|:-------------:|:-------------------------------------------:|:-------------------:|:---------------------:|:------------:|\n",
    "|   LinearSVC   |                $O(m\\times n)$               |         Não         |          Sim          |      Não     |\n",
    "| SGDClassifier |                $O(m\\times n)$               |         Sim         |          Sim          |      Não     |\n",
    "|      SVC      | $O(m^2\\times n) \\text{ ou } O(m^3\\times n)$ |         Não         |          Sim          |      Sim     |\n",
    "\n",
    "</center>"
   ]
  },
  {
   "cell_type": "markdown",
   "metadata": {},
   "source": [
    "# Kernels comuns"
   ]
  },
  {
   "cell_type": "markdown",
   "metadata": {},
   "source": [
    "- Linear: $K(a,b) = a^Tb$\n",
    "- Polinomial: $K(a,b) = (\\gamma a^Tb+r)^d$\n",
    "- RBF gaussiano: $K(a,b) = \\exp(-\\gamma \\|a-b\\|^2)$\n",
    "- Sigmoide: $K(a,b) = \\tanh(\\gamma a^T b+r)$"
   ]
  }
 ],
 "metadata": {
  "language_info": {
   "name": "python"
  }
 },
 "nbformat": 4,
 "nbformat_minor": 2
}
