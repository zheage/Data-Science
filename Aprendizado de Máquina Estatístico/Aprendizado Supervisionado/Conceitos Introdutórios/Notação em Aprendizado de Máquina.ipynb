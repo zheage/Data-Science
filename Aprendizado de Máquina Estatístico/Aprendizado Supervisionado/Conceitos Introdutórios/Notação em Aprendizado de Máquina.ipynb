{
 "cells": [
  {
   "cell_type": "markdown",
   "metadata": {},
   "source": [
    "# Notação em Aprendizado de Máquina"
   ]
  },
  {
   "cell_type": "markdown",
   "metadata": {},
   "source": [
    "- Variável resposta: $Y$\n",
    "- Covariáveis $X=(X_1,\\dots, X_p)$\n",
    "- $x_{i,j}$ o valor da j-ésima covariável na i-ésima amostra\n",
    "- $x_i = (x_{i,1}, \\dots, x_{i,d})$"
   ]
  }
 ],
 "metadata": {
  "language_info": {
   "name": "python"
  },
  "orig_nbformat": 4
 },
 "nbformat": 4,
 "nbformat_minor": 2
}
