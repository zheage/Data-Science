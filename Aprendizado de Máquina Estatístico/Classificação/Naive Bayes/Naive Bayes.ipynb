{
 "cells": [
  {
   "cell_type": "markdown",
   "metadata": {},
   "source": [
    "# Naive Bayes"
   ]
  },
  {
   "cell_type": "markdown",
   "metadata": {},
   "source": [
    "Assumindo que $X$ seja um vetor de covariáveis contínuas, podemos estimar a probabilidade $P(Y=c|X)$ pelo **Teorema de Bayes:**\n",
    "\n",
    "$$P(Y=c|X) = \\frac{f(X|Y=c)P(Y=c)}{\\sum_{s\\in C}f(X|Y=s)P(Y=s)}$$\n",
    "\n",
    "Dessa maneira, podemos obter uma estimativa da probabilidade de um elemento pertencer a uma classe estimando as probabilidades marginais de que $P(Y=k)$ e as densidades condicionais $f(X|Y=k)$ para cada $k\\in C$.\n",
    "\n",
    "- $P(Y=k)$ pode ser facilmente estimado utilizando as proporções de cada classe;\n",
    "- $f(X|Y=k)$ pode ser estimado assumindo algum modelo para as covariáveis.\n",
    "\n",
    "> O método **Bayes ingênuo** assume que para toda classe $k\\in C$, a função densidade $f(X|Y=k)$ pode ser fatorada como\n",
    "> $$ f(X|Y=s) = f((x_1,\\dots, x_d)|Y=s) = \\prod_{j=1}^d f(x_j|Y=s)$$\n",
    "\n",
    "Assim, assumimos que as componentes de $X$ são independentes condicionalmente à classe $Y$.\n",
    "\n",
    "> **Exemplo de estimação.**\n",
    ">\n",
    "> Podemos estimar cada $f(x_j|Y=s)$ assumindo, por exemplo, que\n",
    ">\n",
    "> $$X_j |Y=s \\sim N(\\mu_{j,s},\\sigma_{j,s}^2), j=1,\\dots,d.$$\n",
    ">\n",
    "> Cujos coeficientes podem ser estimados através da função de máxima verossimilhança:\n",
    ">\n",
    "> $$\\widehat{\\mu_{j,s}} = \\frac{1}{|C_s|}\\sum_{k\\in C_s} X_{j,k}, \\quad \\widehat{\\sigma_{j,s}^2} = \\frac{1}{|C_s|} \\sum_{k\\in C_s}(X_{j,k}- \\widehat{\\mu_{j,s}})^2$$\n",
    ">\n",
    "> onde $C_s=\\left\\{j:Y_j=s\\right\\}$ é o conjunto de todas as observações de treinamento da classe $s$.\n",
    ">\n",
    "> Nesse contexto, o estimador para a densidade condicional $f(x|Y=c)$ é dado por\n",
    ">\n",
    "> $$\\hat{f}(x|Y=c) = \\prod_{k=1}^d \\frac{1}{\\sqrt{2\\pi\\widehat{\\sigma_{k,c}^2}}} e^{-\\frac{(x_k-\\widehat{\\mu_{k,c}})^2}{2\\widehat{\\sigma_{k,c}^2}}}$$"
   ]
  }
 ],
 "metadata": {
  "language_info": {
   "name": "python"
  },
  "orig_nbformat": 4
 },
 "nbformat": 4,
 "nbformat_minor": 2
}
