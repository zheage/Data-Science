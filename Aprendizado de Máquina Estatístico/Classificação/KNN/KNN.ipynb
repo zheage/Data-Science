{
 "cells": [
  {
   "cell_type": "markdown",
   "metadata": {},
   "source": [
    "# KNN"
   ]
  },
  {
   "cell_type": "markdown",
   "metadata": {},
   "source": [
    "O algoritmo K-Nearest Neighbors (KNN) é uma técnica que visa prever elementos de uma nova instância através da moda de seus $k$ vizinhos mais próximos. Assim, a função de classificação $g(\\cdot)$ pode ser definida por:\n",
    "\n",
    "$$g(x_j) = \\text{moda} \\left\\{y_1, \\dots, y_k \\right\\}, y_1, \\dots, y_k \\text{ sendo as variáveis respostas dos k vizinhos mais próximos de } x_j.$$\n",
    "\n",
    "> KNN é um algoritmo não paramétrico, não realizando suposições explícitas sobre a distribuição dos dados.\n",
    "> \n",
    "> Além disso, o método é considerado preguiçoso (*lazy learning*) pois não existe de fato uma fase de treinamento do modelo, apenas uma regra de decisão baseada na base de treino."
   ]
  }
 ],
 "metadata": {
  "language_info": {
   "name": "python"
  },
  "orig_nbformat": 4
 },
 "nbformat": 4,
 "nbformat_minor": 2
}
