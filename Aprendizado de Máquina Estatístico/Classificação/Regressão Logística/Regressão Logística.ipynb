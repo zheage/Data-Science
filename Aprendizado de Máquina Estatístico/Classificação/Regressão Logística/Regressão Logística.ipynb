{
 "cells": [
  {
   "cell_type": "markdown",
   "metadata": {},
   "source": [
    "# Introdução"
   ]
  },
  {
   "cell_type": "markdown",
   "metadata": {},
   "source": [
    "Assumindo que $C=\\left\\{0, 1\\right\\}$ a regressão logística apresenta a seguinte forma paramétrica:\n",
    "\n",
    "$$\n",
    "P(Y=1|X) = \\frac{e^{\\beta_0 + \\sum_{i=1}^d \\beta_i x_i}}{1 +e^{\\beta_0 + \\sum_{i=1}^d \\beta_i x_i}}\n",
    "$$\n",
    "\n",
    "Quando existirem mais de duas categorias $(|C|>2)$ podemos estimar, para cada $c\\in C$, $P(Y=c|x)$ utilizando uma regressão logística diferente. Para tanto, basta estimar $P(Z=1|x)$, em que $Z=I(Y=c)$."
   ]
  }
 ],
 "metadata": {
  "language_info": {
   "name": "python"
  },
  "orig_nbformat": 4
 },
 "nbformat": 4,
 "nbformat_minor": 2
}
