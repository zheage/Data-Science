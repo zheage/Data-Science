{
 "cells": [
  {
   "cell_type": "markdown",
   "metadata": {},
   "source": [
    "# Weight of evidence"
   ]
  },
  {
   "cell_type": "markdown",
   "metadata": {},
   "source": [
    "**Weight of Evidence (WOE)** dá indícios sobre a capacidade de uma covariável conseguir distinguir bons e maus clientes para a variável resposta. Sua fórmula é dada por:\n",
    "\n",
    "$$\\text{WOE} = \\ln \\left[ \\frac{\\text{\\% de clientes bons}}{\\text{\\% de clientes ruins}} \\right]$$\n",
    "\n",
    "- $\\text{WOE} > 0$ indica que a distribuição de bons é maior que a de maus;\n",
    "- $\\text{WOE} < 0$ indica que a distribuição de maus é maior do que de bons.\n",
    "\n",
    "A medida surgiu em modelos de Regressão Logística com objetivo de auxiliar os analistas em categorizar covariáveis contínuas, permitindo que novas covariáveis possam pertencer ao modelo mesmo que a hipótese de colinearidade não seja satisfeita.\n",
    "\n",
    "Para isto;\n",
    "\n",
    "1. Para variáveis contínuas separamos-as em 10 a 20 categorias;\n",
    "2. Calculamos o número de eventos e não eventos em cada grupo;\n",
    "3. Calculamos a % de eventos e % de não eventos em cada grupo;\n",
    "4. Calculamos o WOE em cada grupo\n",
    "\n",
    "Para variáveis categóricas a divisão claramente não é necessária, com a medida sendo auxiliar na hora de agruparmos duas categorias com mesmo comportamento.\n",
    "\n",
    "<center>\n",
    "\n",
    "| Categorias | Não-eventos |  Eventos | % Não-eventos | % Eventos |   WOE   |   IV   |\n",
    "|:----------:|:-----------:|:--------:|:-------------:|:---------:|:-------:|:------:|\n",
    "|    0-50    |     197     |    20    |     5.4\\%     |   5.9\\%   | -0.0952 | 0.0005 |\n",
    "|   51-100   |     450     |    34    |     12.3\\%    |   10.1\\%  |  0.2002 | 0.0045 |\n",
    "|   101-150  |     492     |    39    |     13.4\\%    |   11.5\\%  |  0.1522 | 0.0029 |\n",
    "|   151-200  |     597     |    51    |     16.3\\%    |   15.1\\%  |  0.0774 | 0.0009 |\n",
    "|   201-250  |     609     |    54    |     16.6\\%    |   16.0\\%  |  0.0401 | 0.0003 |\n",
    "|   251-300  |     582     |    55    |     15.9\\%    |   16.3\\%  | -0.0236 | 0.0001 |\n",
    "|   301-350  |     386     |    41    |     10.5\\%    |   12.1\\%  | -0.1405 | 0.0022 |\n",
    "|   351-400  |     165     |    23    |     4.5\\%     |   6.8\\%   | -0.4123 | 0.0095 |\n",
    "|    >401    |     184     |    21    |     5.0\\%     |   6.2\\%   | -0.2123 | 0.0025 |\n",
    "|            |  **Total**  | **3662** |    **338**    |           |         |        |\n",
    "\n",
    "</center>"
   ]
  },
  {
   "cell_type": "markdown",
   "metadata": {},
   "source": [
    "## Regras associadas ao WOE\n",
    "\n",
    "1. Cada categoria deve ter pelo menos 5% de observações\n",
    "2. Cada categoria deve ter uma quantidade não nula de eventos e não eventos;\n",
    "3. WOE deve ser distinto para cada categoria, com grupos similares sendo recomendado o agrupamento;\n",
    "4. Valores NA são analisados separadamente.\n",
    "\n",
    "## Lidando com categorias sem Eventos/Não-eventos\n",
    "\n",
    "Se uma categoria em particular não possuir eventos/não-eventos, podemos utilizar o WOE ajustado para ignorar este problema:\n",
    "\n",
    "$$\\text{WOE}_{\\text{Ajustado}} = \\ln \\left[ \\frac{\\text{\\% de clientes bons}+0.5}{\\text{\\% de clientes ruins}+0.5} \\right]$$"
   ]
  },
  {
   "cell_type": "markdown",
   "metadata": {},
   "source": [
    "Dentre as vantagens de utilizarmos Weight of Evidence, temos:\n",
    "\n",
    "1. Capacidade de tratar outliers devido a categorização de variáveis lineares;\n",
    "2. Valores NA podem ser tratados separadamente, facilitando a explicabilidade;\n",
    "3. Auxilia na construção de uma relação linear entre as covariáveis e a variável resposta, facilitando a interpretação do log-odds."
   ]
  },
  {
   "cell_type": "markdown",
   "metadata": {},
   "source": [
    "# Information Value"
   ]
  },
  {
   "cell_type": "markdown",
   "metadata": {},
   "source": [
    "**Information value (IV)** é uma técnica para selecionar as variáveis mais importantes em um modelo preditivo. Sua fórmula é dada por:\n",
    "\n",
    "$$\n",
    "\\text{IV} = \\sum(\\text{\\% de nao eventos} - \\text{\\% de eventos}) \\cdot \\text{WOE}\n",
    "$$\n",
    "\n",
    "A seguinte tabela fornece bons indícios de como interpretar valores de Information Value:\n",
    "\n",
    "<center>\n",
    "\n",
    "| **Information Value** |           **Descrição**           |\n",
    "|:---------------------:|:---------------------------------:|\n",
    "|         < 0.02        |     Irrelevante para predição     |\n",
    "|      0.02 até 0.1     |       Poder preditivo baixo       |\n",
    "|      0.1 até 0.3      |       Poder preditivo médio       |\n",
    "|      0.3 até 0.5      |       Poder preditivo forte       |\n",
    "|         > 0.5         | Poder preditivo suspeito (checar) |\n",
    "\n",
    "</center>"
   ]
  },
  {
   "cell_type": "markdown",
   "metadata": {},
   "source": [
    "Questões importantes:\n",
    "\n",
    "1. Information Value aumenta conforme o número de categorias aumenta, dessa forma é necessário atenção para o modelo possuir parcimônia;\n",
    "2. Não é uma métrica tão relevante quando utilizamos outros modelos além do de regressão logística"
   ]
  },
  {
   "cell_type": "markdown",
   "metadata": {},
   "source": [
    "# Exemplos Computacionais"
   ]
  },
  {
   "cell_type": "code",
   "execution_count": 1,
   "metadata": {},
   "outputs": [],
   "source": [
    "import pandas as pd\n",
    "import numpy as np\n",
    "mydata = pd.read_csv(\"https://stats.idre.ucla.edu/stat/data/binary.csv\")"
   ]
  },
  {
   "cell_type": "code",
   "execution_count": null,
   "metadata": {},
   "outputs": [],
   "source": [
    "def iv_woe(data, target, bins=10, show_woe=False):\n",
    "    \n",
    "    #Empty Dataframe\n",
    "    newDF,woeDF = pd.DataFrame(), pd.DataFrame()\n",
    "    \n",
    "    #Extract Column Names\n",
    "    cols = data.columns\n",
    "    \n",
    "    #Run WOE and IV on all the independent variables\n",
    "    for ivars in cols[~cols.isin([target])]:\n",
    "        if (data[ivars].dtype.kind in 'bifc') and (len(np.unique(data[ivars]))>10):\n",
    "            binned_x = pd.qcut(data[ivars], bins,  duplicates='drop')\n",
    "            d0 = pd.DataFrame({'x': binned_x, 'y': data[target]})\n",
    "        else:\n",
    "            d0 = pd.DataFrame({'x': data[ivars], 'y': data[target]})\n",
    "        d0 = d0.astype({\"x\": str})\n",
    "        d = d0.groupby(\"x\", as_index=False, dropna=False).agg({\"y\": [\"count\", \"sum\"]})\n",
    "        d.columns = ['Cutoff', 'N', 'Events']\n",
    "        d['% of Events'] = np.maximum(d['Events'], 0.5) / d['Events'].sum()\n",
    "        d['Non-Events'] = d['N'] - d['Events']\n",
    "        d['% of Non-Events'] = np.maximum(d['Non-Events'], 0.5) / d['Non-Events'].sum()\n",
    "        d['WoE'] = np.log(d['% of Non-Events']/d['% of Events'])\n",
    "        d['IV'] = d['WoE'] * (d['% of Non-Events']-d['% of Events'])\n",
    "        d.insert(loc=0, column='Variable', value=ivars)\n",
    "        print(\"Information value of \" + ivars + \" is \" + str(round(d['IV'].sum(),6)))\n",
    "        temp =pd.DataFrame({\"Variable\" : [ivars], \"IV\" : [d['IV'].sum()]}, columns = [\"Variable\", \"IV\"])\n",
    "        newDF=pd.concat([newDF,temp], axis=0)\n",
    "        woeDF=pd.concat([woeDF,d], axis=0)\n",
    "\n",
    "        #Show WOE Table\n",
    "        if show_woe == True:\n",
    "            print(d)\n",
    "    return newDF, woeDF"
   ]
  }
 ],
 "metadata": {
  "kernelspec": {
   "display_name": "Python 3",
   "language": "python",
   "name": "python3"
  },
  "language_info": {
   "codemirror_mode": {
    "name": "ipython",
    "version": 3
   },
   "file_extension": ".py",
   "mimetype": "text/x-python",
   "name": "python",
   "nbconvert_exporter": "python",
   "pygments_lexer": "ipython3",
   "version": "3.11.5"
  },
  "orig_nbformat": 4
 },
 "nbformat": 4,
 "nbformat_minor": 2
}
