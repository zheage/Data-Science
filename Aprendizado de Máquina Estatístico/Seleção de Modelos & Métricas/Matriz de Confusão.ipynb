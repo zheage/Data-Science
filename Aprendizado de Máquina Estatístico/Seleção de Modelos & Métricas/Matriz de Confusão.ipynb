{
 "cells": [
  {
   "cell_type": "markdown",
   "metadata": {},
   "source": [
    "# Matriz de Confusão"
   ]
  },
  {
   "cell_type": "markdown",
   "metadata": {},
   "source": [
    "Para avaliar o desempenho de modelos de classificação é comum utilizarmos a matriz de confusão, tabela que sumariza as previsões realizadas pelo modelo em comparação com os dados realmente observados:\n",
    "\n",
    "<p align=\"center\"> <img src=\"Matriz de Confusão.png\" width=\"650\"> </p>"
   ]
  },
  {
   "cell_type": "markdown",
   "metadata": {},
   "source": [
    "# Métricas da Matriz de Confusão\n",
    "\n",
    "Diversas métricas surgem da necessidade de sumarizar diferentes informações da matriz de confusão, dentre elas:\n",
    "\n",
    "- **Acurácia:** total de acertos cometido pelo modelo\n",
    "$$\\text{Acurácia} = \\frac{\\text{VP+VN}}{\\text{VP+VN+FN+FP}}$$\n",
    "\n",
    "- **Taxa de erro:** taxa de erros cometida pelo modelo\n",
    "$$\\text{Taxa de erro} = \\frac{\\text{VP+VN}}{\\text{VP+VN+FN+FP}}$$\n",
    "\n",
    "- **Precisão:** Quantidade de previsões positivas corretamente realizadas\n",
    "$$\\text{Precisão:} = \\frac{\\text{VP}}{\\text{VP+FP}}$$\n",
    "\n",
    "- **Sensibilidade/recall:** Quantidade de elementos da classe positiva corretamente classificados\n",
    "$$\\text{Sensibilidade} = \\frac{\\text{VP}}{\\text{VP+FN}}$$\n",
    "\n",
    "- **Especificidade:** Quantidade de elementos da classe negativa corretamente classificados\n",
    "$$\\text{Especificidade} = \\frac{\\text{VN}}{\\text{VN+FP}}$$"
   ]
  },
  {
   "cell_type": "markdown",
   "metadata": {},
   "source": [
    "# Usabilidade das Métricas"
   ]
  }
 ],
 "metadata": {
  "language_info": {
   "name": "python"
  },
  "orig_nbformat": 4
 },
 "nbformat": 4,
 "nbformat_minor": 2
}
