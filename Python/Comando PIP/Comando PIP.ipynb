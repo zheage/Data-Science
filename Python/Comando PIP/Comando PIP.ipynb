{
 "cells": [
  {
   "cell_type": "markdown",
   "metadata": {},
   "source": [
    "# Comando PIP"
   ]
  },
  {
   "cell_type": "markdown",
   "metadata": {},
   "source": [
    "O comando `pip` é uma ferramenta utilizada para instalar, gerenciar e atualizar pacotes do Python. Seu nome é um acrônimo da frase `Python Installs Packages`.\n",
    "\n",
    "Comandos principais dentro do PIP:"
   ]
  },
  {
   "cell_type": "code",
   "execution_count": null,
   "metadata": {},
   "outputs": [],
   "source": [
    "pip install package # Instala um pacote\n",
    "pip uninstall package # Desinstala um pacote\n",
    "pip install --upgrade package # Atualiza um pacote"
   ]
  },
  {
   "cell_type": "markdown",
   "metadata": {},
   "source": [
    "Comandos auxiliares:"
   ]
  },
  {
   "cell_type": "code",
   "execution_count": null,
   "metadata": {},
   "outputs": [],
   "source": [
    "# Lista todos os pacotes e suas respectivas versões instaladas\n",
    "pip list \n",
    "# Lista todos os pacotes e suas respectivas versões que foram instalados manualmente\n",
    "pip freeze"
   ]
  },
  {
   "cell_type": "markdown",
   "metadata": {},
   "source": [
    "Caso desejamos um arquivo com todas as bibliotecas instaladas e suas respectivas versões utilizamos:"
   ]
  },
  {
   "cell_type": "code",
   "execution_count": null,
   "metadata": {},
   "outputs": [],
   "source": [
    "pip freeze requirements.txt"
   ]
  },
  {
   "cell_type": "markdown",
   "metadata": {},
   "source": [
    "Para instalar todas as bibliotecas em um arquivo `requirements.txt` basta utilizar o seguinte código:"
   ]
  },
  {
   "cell_type": "code",
   "execution_count": null,
   "metadata": {},
   "outputs": [],
   "source": [
    "pip install -r requirements.txt"
   ]
  }
 ],
 "metadata": {
  "language_info": {
   "name": "python"
  },
  "orig_nbformat": 4
 },
 "nbformat": 4,
 "nbformat_minor": 2
}
