{
 "cells": [
  {
   "attachments": {},
   "cell_type": "markdown",
   "metadata": {},
   "source": [
    "# Introdução Teórica"
   ]
  },
  {
   "attachments": {},
   "cell_type": "markdown",
   "metadata": {},
   "source": [
    "PySpark é uma biblioteca de processamento distribuído de dados em larga escala. Ele fornece uma interface em Python para a estrutura de processamento de dados distribuída Apache Spark, permitindo que usuários executem operações de processamento de grandes conjuntos de dados em clusters distribuídos."
   ]
  },
  {
   "attachments": {},
   "cell_type": "markdown",
   "metadata": {},
   "source": [
    "# Cheat Sheet"
   ]
  },
  {
   "attachments": {},
   "cell_type": "markdown",
   "metadata": {},
   "source": [
    "<p align = \"center\">\n",
    "<img src = \"https://res.cloudinary.com/dyd911kmh/image/upload/f_auto,q_auto:best/v1625837623/PySpark_Cheat_Sheet-_Spark_in_Python_owornh.png\" width = 1400>\n",
    "</p>"
   ]
  },
  {
   "attachments": {},
   "cell_type": "markdown",
   "metadata": {},
   "source": [
    "# Primeiros passos com PySpark"
   ]
  },
  {
   "cell_type": "code",
   "execution_count": 1,
   "metadata": {},
   "outputs": [
    {
     "name": "stdout",
     "output_type": "stream",
     "text": [
      "A versão atual do PySpark é: 3.4.0\n"
     ]
    }
   ],
   "source": [
    "import pyspark as spark\n",
    "import pandas as pd\n",
    "from pyspark.sql import SparkSession\n",
    "\n",
    "print(f\"A versão atual do PySpark é: {spark.__version__}\")"
   ]
  },
  {
   "cell_type": "code",
   "execution_count": 2,
   "metadata": {},
   "outputs": [
    {
     "name": "stdout",
     "output_type": "stream",
     "text": [
      "<pyspark.sql.session.SparkSession object at 0x000001F96B3B6350>\n"
     ]
    }
   ],
   "source": [
    "# Cria ou recupera uma sessão Spark\n",
    "my_spark = SparkSession.builder.getOrCreate()\n",
    "print(my_spark)"
   ]
  },
  {
   "cell_type": "code",
   "execution_count": 3,
   "metadata": {},
   "outputs": [
    {
     "name": "stdout",
     "output_type": "stream",
     "text": [
      "Lista de todas as tabelas no cluster atual: []\n"
     ]
    }
   ],
   "source": [
    "# Retorna o nome de todas as tabelas dentro do clusters em uma lista\n",
    "print(f\"Lista de todas as tabelas no cluster atual: {my_spark.catalog.listTables()}\")"
   ]
  },
  {
   "cell_type": "code",
   "execution_count": 4,
   "metadata": {},
   "outputs": [
    {
     "data": {
      "text/html": [
       "<div>\n",
       "<style scoped>\n",
       "    .dataframe tbody tr th:only-of-type {\n",
       "        vertical-align: middle;\n",
       "    }\n",
       "\n",
       "    .dataframe tbody tr th {\n",
       "        vertical-align: top;\n",
       "    }\n",
       "\n",
       "    .dataframe thead th {\n",
       "        text-align: right;\n",
       "    }\n",
       "</style>\n",
       "<table border=\"1\" class=\"dataframe\">\n",
       "  <thead>\n",
       "    <tr style=\"text-align: right;\">\n",
       "      <th></th>\n",
       "      <th>SepalLengthCm</th>\n",
       "      <th>SepalWidthCm</th>\n",
       "      <th>PetalLengthCm</th>\n",
       "      <th>PetalWidthCm</th>\n",
       "      <th>Species</th>\n",
       "    </tr>\n",
       "  </thead>\n",
       "  <tbody>\n",
       "    <tr>\n",
       "      <th>0</th>\n",
       "      <td>5.1</td>\n",
       "      <td>3.5</td>\n",
       "      <td>1.4</td>\n",
       "      <td>0.2</td>\n",
       "      <td>Iris-setosa</td>\n",
       "    </tr>\n",
       "    <tr>\n",
       "      <th>1</th>\n",
       "      <td>4.9</td>\n",
       "      <td>3.0</td>\n",
       "      <td>1.4</td>\n",
       "      <td>0.2</td>\n",
       "      <td>Iris-setosa</td>\n",
       "    </tr>\n",
       "    <tr>\n",
       "      <th>2</th>\n",
       "      <td>4.7</td>\n",
       "      <td>3.2</td>\n",
       "      <td>1.3</td>\n",
       "      <td>0.2</td>\n",
       "      <td>Iris-setosa</td>\n",
       "    </tr>\n",
       "  </tbody>\n",
       "</table>\n",
       "</div>"
      ],
      "text/plain": [
       "   SepalLengthCm  SepalWidthCm  PetalLengthCm  PetalWidthCm      Species\n",
       "0            5.1           3.5            1.4           0.2  Iris-setosa\n",
       "1            4.9           3.0            1.4           0.2  Iris-setosa\n",
       "2            4.7           3.2            1.3           0.2  Iris-setosa"
      ]
     },
     "execution_count": 4,
     "metadata": {},
     "output_type": "execute_result"
    }
   ],
   "source": [
    "# Vamos carregar o DataFrame Iris:\n",
    "iris_df = pd.read_csv(\n",
    "    r\"G:\\Meu Drive\\Data Science\\Dados\\Classificação\\Iris\\Iris.csv\"\n",
    ")\n",
    "\n",
    "iris_df.drop('Id', axis = 1, inplace = True)\n",
    "\n",
    "iris_df.head(3)"
   ]
  },
  {
   "cell_type": "code",
   "execution_count": 33,
   "metadata": {},
   "outputs": [
    {
     "name": "stdout",
     "output_type": "stream",
     "text": [
      "DataFrame[Id: string, SepalLengthCm: string, SepalWidthCm: string, PetalLengthCm: string, PetalWidthCm: string, Species: string]\n"
     ]
    }
   ],
   "source": [
    "# Caso queiramos carregar utilizando PySpark, podemos fazer da seguinte forma:\n",
    "\n",
    "iris_spark = my_spark.createDataFrame(iris_df) # Cria um DataFrame Spark a partir de um DataFrame do Pandas\n",
    "\n",
    "# ou\n",
    "\n",
    "iris_spark = my_spark.read.csv(\n",
    "    r\"G:\\Meu Drive\\Data Science\\Dados\\Classificação\\Iris\\Iris.csv\",\n",
    "    header = True\n",
    ")\n",
    "\n",
    "# Podemos ver o tipo de dados de cada coluna:\n",
    "print(iris_spark)"
   ]
  },
  {
   "cell_type": "code",
   "execution_count": 34,
   "metadata": {},
   "outputs": [
    {
     "name": "stdout",
     "output_type": "stream",
     "text": [
      "+---+-------------+------------+-------------+------------+-----------+\n",
      "| Id|SepalLengthCm|SepalWidthCm|PetalLengthCm|PetalWidthCm|    Species|\n",
      "+---+-------------+------------+-------------+------------+-----------+\n",
      "|  1|          5.1|         3.5|          1.4|         0.2|Iris-setosa|\n",
      "|  2|          4.9|         3.0|          1.4|         0.2|Iris-setosa|\n",
      "|  3|          4.7|         3.2|          1.3|         0.2|Iris-setosa|\n",
      "|  4|          4.6|         3.1|          1.5|         0.2|Iris-setosa|\n",
      "|  5|          5.0|         3.6|          1.4|         0.2|Iris-setosa|\n",
      "+---+-------------+------------+-------------+------------+-----------+\n",
      "only showing top 5 rows\n",
      "\n"
     ]
    }
   ],
   "source": [
    "# Para visualizar as primeiras linhas do DataFrame, podemos utilizar o método show():\n",
    "iris_spark.show(5)"
   ]
  },
  {
   "cell_type": "code",
   "execution_count": 35,
   "metadata": {},
   "outputs": [
    {
     "name": "stdout",
     "output_type": "stream",
     "text": [
      "Lista de todas as tabelas no cluster atual: [Table(name='iris', catalog=None, namespace=[], description=None, tableType='TEMPORARY', isTemporary=True)]\n"
     ]
    }
   ],
   "source": [
    "# Adiciona a tabela ao catálogo do cluster atual:\n",
    "iris_spark.createOrReplaceTempView(\"iris\")\n",
    "\n",
    "print(f\"Lista de todas as tabelas no cluster atual: {my_spark.catalog.listTables()}\")"
   ]
  },
  {
   "cell_type": "code",
   "execution_count": 36,
   "metadata": {},
   "outputs": [
    {
     "name": "stdout",
     "output_type": "stream",
     "text": [
      "+---+-------------+------------+-------------+------------+-----------+\n",
      "| Id|SepalLengthCm|SepalWidthCm|PetalLengthCm|PetalWidthCm|    Species|\n",
      "+---+-------------+------------+-------------+------------+-----------+\n",
      "|  1|          5.1|         3.5|          1.4|         0.2|Iris-setosa|\n",
      "|  2|          4.9|         3.0|          1.4|         0.2|Iris-setosa|\n",
      "|  3|          4.7|         3.2|          1.3|         0.2|Iris-setosa|\n",
      "|  4|          4.6|         3.1|          1.5|         0.2|Iris-setosa|\n",
      "|  5|          5.0|         3.6|          1.4|         0.2|Iris-setosa|\n",
      "|  6|          5.4|         3.9|          1.7|         0.4|Iris-setosa|\n",
      "|  7|          4.6|         3.4|          1.4|         0.3|Iris-setosa|\n",
      "|  8|          5.0|         3.4|          1.5|         0.2|Iris-setosa|\n",
      "|  9|          4.4|         2.9|          1.4|         0.2|Iris-setosa|\n",
      "| 10|          4.9|         3.1|          1.5|         0.1|Iris-setosa|\n",
      "| 11|          5.4|         3.7|          1.5|         0.2|Iris-setosa|\n",
      "| 12|          4.8|         3.4|          1.6|         0.2|Iris-setosa|\n",
      "| 13|          4.8|         3.0|          1.4|         0.1|Iris-setosa|\n",
      "| 14|          4.3|         3.0|          1.1|         0.1|Iris-setosa|\n",
      "| 15|          5.8|         4.0|          1.2|         0.2|Iris-setosa|\n",
      "| 16|          5.7|         4.4|          1.5|         0.4|Iris-setosa|\n",
      "| 17|          5.4|         3.9|          1.3|         0.4|Iris-setosa|\n",
      "| 18|          5.1|         3.5|          1.4|         0.3|Iris-setosa|\n",
      "| 19|          5.7|         3.8|          1.7|         0.3|Iris-setosa|\n",
      "| 20|          5.1|         3.8|          1.5|         0.3|Iris-setosa|\n",
      "+---+-------------+------------+-------------+------------+-----------+\n",
      "only showing top 20 rows\n",
      "\n"
     ]
    }
   ],
   "source": [
    "# Realiza uma QUERY SQL em uma tabela do cluster.\n",
    "query = \"SELECT * FROM iris\"\n",
    "query_df = my_spark.sql(query)\n",
    "query_df.show()"
   ]
  },
  {
   "attachments": {},
   "cell_type": "markdown",
   "metadata": {},
   "source": [
    "# Manipulando Colunas"
   ]
  },
  {
   "cell_type": "code",
   "execution_count": 38,
   "metadata": {},
   "outputs": [
    {
     "data": {
      "text/plain": [
       "DataFrame[Id: string, SepalLengthCm: string, SepalWidthCm: string, PetalLengthCm: string, PetalWidthCm: string, Species: string, new_column: string]"
      ]
     },
     "execution_count": 38,
     "metadata": {},
     "output_type": "execute_result"
    }
   ],
   "source": [
    "# Cria uma nova coluna no DataFrame:\n",
    "iris_spark.withColumn(\"new_column\", iris_spark.Species)"
   ]
  },
  {
   "cell_type": "code",
   "execution_count": 57,
   "metadata": {},
   "outputs": [
    {
     "name": "stdout",
     "output_type": "stream",
     "text": [
      "+------------+-------------+------------+-------------+------------+-----------+\n",
      "|ColunaInutil|SepalLengthCm|SepalWidthCm|PetalLengthCm|PetalWidthCm|    Species|\n",
      "+------------+-------------+------------+-------------+------------+-----------+\n",
      "|           1|          5.1|         3.5|          1.4|         0.2|Iris-setosa|\n",
      "|           2|          4.9|         3.0|          1.4|         0.2|Iris-setosa|\n",
      "|           3|          4.7|         3.2|          1.3|         0.2|Iris-setosa|\n",
      "|           4|          4.6|         3.1|          1.5|         0.2|Iris-setosa|\n",
      "|           5|          5.0|         3.6|          1.4|         0.2|Iris-setosa|\n",
      "|           6|          5.4|         3.9|          1.7|         0.4|Iris-setosa|\n",
      "|           7|          4.6|         3.4|          1.4|         0.3|Iris-setosa|\n",
      "|           8|          5.0|         3.4|          1.5|         0.2|Iris-setosa|\n",
      "|           9|          4.4|         2.9|          1.4|         0.2|Iris-setosa|\n",
      "|          10|          4.9|         3.1|          1.5|         0.1|Iris-setosa|\n",
      "|          11|          5.4|         3.7|          1.5|         0.2|Iris-setosa|\n",
      "|          12|          4.8|         3.4|          1.6|         0.2|Iris-setosa|\n",
      "|          13|          4.8|         3.0|          1.4|         0.1|Iris-setosa|\n",
      "|          14|          4.3|         3.0|          1.1|         0.1|Iris-setosa|\n",
      "|          15|          5.8|         4.0|          1.2|         0.2|Iris-setosa|\n",
      "|          16|          5.7|         4.4|          1.5|         0.4|Iris-setosa|\n",
      "|          17|          5.4|         3.9|          1.3|         0.4|Iris-setosa|\n",
      "|          18|          5.1|         3.5|          1.4|         0.3|Iris-setosa|\n",
      "|          19|          5.7|         3.8|          1.7|         0.3|Iris-setosa|\n",
      "|          20|          5.1|         3.8|          1.5|         0.3|Iris-setosa|\n",
      "+------------+-------------+------------+-------------+------------+-----------+\n",
      "only showing top 20 rows\n",
      "\n"
     ]
    }
   ],
   "source": [
    "# Renomeia uma coluna no DataFrame:\n",
    "iris_spark.withColumnRenamed(\"Id\", \"ColunaInutil\").show()"
   ]
  },
  {
   "cell_type": "code",
   "execution_count": 46,
   "metadata": {},
   "outputs": [
    {
     "name": "stdout",
     "output_type": "stream",
     "text": [
      "+-------------------+-----------+\n",
      "|ColunaDesnecessaria|   Especies|\n",
      "+-------------------+-----------+\n",
      "|                  1|Iris-setosa|\n",
      "|                  2|Iris-setosa|\n",
      "|                  3|Iris-setosa|\n",
      "+-------------------+-----------+\n",
      "only showing top 3 rows\n",
      "\n"
     ]
    }
   ],
   "source": [
    "# Seleciona colunas do DataFrame PySpark:\n",
    "iris_spark.select(\"Id\", \"Species\")\n",
    "# Seleciona colunas com possibilidade de definir os alias de forma prática:\n",
    "iris_spark.selectExpr(\"Id as ColunaDesnecessaria\", \"Species as Especies\").show(3)"
   ]
  },
  {
   "cell_type": "code",
   "execution_count": 42,
   "metadata": {},
   "outputs": [
    {
     "name": "stdout",
     "output_type": "stream",
     "text": [
      "+---+-------------+------------+-------------+------------+-----------+\n",
      "| Id|SepalLengthCm|SepalWidthCm|PetalLengthCm|PetalWidthCm|    Species|\n",
      "+---+-------------+------------+-------------+------------+-----------+\n",
      "|  1|          5.1|         3.5|          1.4|         0.2|Iris-setosa|\n",
      "|  2|          4.9|         3.0|          1.4|         0.2|Iris-setosa|\n",
      "|  3|          4.7|         3.2|          1.3|         0.2|Iris-setosa|\n",
      "+---+-------------+------------+-------------+------------+-----------+\n",
      "only showing top 3 rows\n",
      "\n",
      "+---+-------------+------------+-------------+------------+-----------+\n",
      "| Id|SepalLengthCm|SepalWidthCm|PetalLengthCm|PetalWidthCm|    Species|\n",
      "+---+-------------+------------+-------------+------------+-----------+\n",
      "|  1|          5.1|         3.5|          1.4|         0.2|Iris-setosa|\n",
      "|  2|          4.9|         3.0|          1.4|         0.2|Iris-setosa|\n",
      "|  3|          4.7|         3.2|          1.3|         0.2|Iris-setosa|\n",
      "+---+-------------+------------+-------------+------------+-----------+\n",
      "only showing top 3 rows\n",
      "\n"
     ]
    }
   ],
   "source": [
    "# Filtra uma coluna no DataFrame utilizando SQL:\n",
    "iris_spark.filter(\"Species == 'Iris-setosa'\").show(3)\n",
    "# Outra forma de utilizar o filtro:\n",
    "iris_spark.filter(iris_spark.Species == \"Iris-setosa\").show(3)"
   ]
  },
  {
   "cell_type": "code",
   "execution_count": 52,
   "metadata": {},
   "outputs": [
    {
     "name": "stdout",
     "output_type": "stream",
     "text": [
      "+---------------+-----+\n",
      "|        Species|count|\n",
      "+---------------+-----+\n",
      "| Iris-virginica|   50|\n",
      "|    Iris-setosa|   50|\n",
      "|Iris-versicolor|   50|\n",
      "+---------------+-----+\n",
      "\n"
     ]
    }
   ],
   "source": [
    "# É possível realizar GroupBy também dentro do PySpark:\n",
    "iris_spark.groupBy(\"Species\").count().show() # Retorna a quantidade de cada espécie, funções max, min, avg, sum e outras também são possíveis."
   ]
  },
  {
   "cell_type": "code",
   "execution_count": 55,
   "metadata": {},
   "outputs": [
    {
     "name": "stdout",
     "output_type": "stream",
     "text": [
      "+---------------+-----------------+-----------------+\n",
      "|        Species|max(SepalWidthCm)|min(SepalWidthCm)|\n",
      "+---------------+-----------------+-----------------+\n",
      "|    Iris-setosa|              4.4|              2.3|\n",
      "|Iris-versicolor|              3.4|              2.0|\n",
      "| Iris-virginica|              3.8|              2.2|\n",
      "+---------------+-----------------+-----------------+\n",
      "\n"
     ]
    }
   ],
   "source": [
    "import pyspark.sql.functions as F # Módulo de funções do PySpark utilizadas para sumarizar dados/operações matemáticas\n",
    "iris_spark.groupBy(\"Species\").agg(F.max(\"SepalWidthCm\"), F.min(\"SepalWidthCm\")).show(3)"
   ]
  }
 ],
 "metadata": {
  "kernelspec": {
   "display_name": "Python 3",
   "language": "python",
   "name": "python3"
  },
  "language_info": {
   "codemirror_mode": {
    "name": "ipython",
    "version": 3
   },
   "file_extension": ".py",
   "mimetype": "text/x-python",
   "name": "python",
   "nbconvert_exporter": "python",
   "pygments_lexer": "ipython3",
   "version": "3.11.2"
  },
  "orig_nbformat": 4
 },
 "nbformat": 4,
 "nbformat_minor": 2
}
