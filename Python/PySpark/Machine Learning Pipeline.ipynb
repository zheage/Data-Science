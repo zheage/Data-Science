{
 "cells": [
  {
   "cell_type": "code",
   "execution_count": null,
   "metadata": {},
   "outputs": [],
   "source": [
    "import pyspark as spark\n",
    "import pandas as pd\n",
    "from pyspark.sql import SparkSession"
   ]
  },
  {
   "cell_type": "markdown",
   "metadata": {},
   "source": [
    "https://www.youtube.com/watch?v=EMACjF6eCU4&ab_channel=Stack retomar no tempo 17min \n",
    "\n",
    "https://www.youtube.com/watch?v=8esz7IWSbMM&ab_channel=AprenderDados%7CBernardoCambruzzi assistir\n",
    "\n",
    "https://community.cloud.databricks.com/?o=4566189763914988#notebook/3855061166299265 notebook no databricks\n",
    "\n",
    "https://www.youtube.com/playlist?list=PLIHpLBNsiHE3Zmdc8Hc8H8n8TVpmrb-fp playlist de engenharia de dados."
   ]
  }
 ],
 "metadata": {
  "kernelspec": {
   "display_name": "Python 3",
   "language": "python",
   "name": "python3"
  },
  "language_info": {
   "name": "python",
   "version": "3.11.2"
  },
  "orig_nbformat": 4
 },
 "nbformat": 4,
 "nbformat_minor": 2
}
