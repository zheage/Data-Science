{
 "cells": [
  {
   "cell_type": "markdown",
   "metadata": {},
   "source": [
    "# Ligações Canônicas"
   ]
  },
  {
   "cell_type": "markdown",
   "metadata": {},
   "source": [
    "Sejam $Y_1,\\dots, Y_n$ variáveis aleatórias independentes com função densidade de probabilidade/função de probabilidade pertencente a família exponencial, isto é, podendo ser escrita da seguinte maneira:\n",
    "\n",
    "$$f(y_i;\\theta_i, \\phi) = \\exp[\\phi(y_i\\theta_i - b(\\theta_i)) + c(y_i, \\theta)]$$"
   ]
  },
  {
   "cell_type": "markdown",
   "metadata": {},
   "source": [
    "## Por que ligações canônicas sequer existem?\n",
    "\n",
    "Durante a suposição do GLM, queremos modelar uma função da média das variáveis $Y_i$:\n",
    "\n",
    "$$g(\\mu_i) = \\eta_i = X\\beta$$\n",
    "\n",
    "Caso estejamos sob a hipótese de que $\\theta = g(\\mu_i) = \\eta_i$ obtermos certos resultados para o desenvolvimento da teoria do MLG."
   ]
  },
  {
   "cell_type": "markdown",
   "metadata": {},
   "source": [
    "## Por trás da teoria"
   ]
  },
  {
   "cell_type": "markdown",
   "metadata": {},
   "source": [
    "O Logarítmo da função de verossimilhança pode ser expresso da seguinte maneira:\n",
    "\n",
    "$$ L(\\beta) = \\sum_{i=1}^n \\phi (y_i\\theta_i - b(\\theta_i)) + \\sum_{i=1}^n c(y_i,\\theta).$$"
   ]
  }
 ],
 "metadata": {
  "language_info": {
   "name": "python"
  },
  "orig_nbformat": 4
 },
 "nbformat": 4,
 "nbformat_minor": 2
}
