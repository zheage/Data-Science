{
 "cells": [
  {
   "cell_type": "markdown",
   "metadata": {},
   "source": [
    "# Regressão Binária"
   ]
  },
  {
   "cell_type": "markdown",
   "metadata": {},
   "source": [
    "- [Probit vs Logit](https://vitalflux.com/logit-vs-probit-models-differences-examples/)"
   ]
  },
  {
   "cell_type": "markdown",
   "metadata": {},
   "source": [
    "Modelos de regressão binária são modelos utilizados para classificar uma variável binária _genial, não?_, geralmente representados por 0 e 1.\n",
    "\n",
    "Estamos interessados em modelos de regressão linear, dados pela seguinte fórmula:\n",
    "\n",
    "$$ g(\\mu_i) = \\eta_i = \\beta X $$\n",
    "\n",
    "- Onde $g(\\mu_i)$ é uma função monótona crescente chamada de **função de ligação**;\n",
    "  - Por conta dessa característica, muitas vezes opta-se por utilizar fda's conhecidas para esta função.\n",
    "- Para problemas de classificação binária $g:\\mathbb{R}\\to [0,1]$;\n",
    "\n",
    "As principais funções de ligação para dados binários são:\n",
    "\n",
    "<center>\n",
    "\n",
    "|   Nome  \t|                 $g(\\eta)$                 \t|                $g^{-1}(p_i)$                \t|\n",
    "|:-------:\t|:-----------------------------------------:\t|:-------------------------------------------:\t|\n",
    "|  logit  \t| $p_i = \\frac{\\exp(\\eta)}{1+\\exp(\\eta_i)}$ \t| $\\eta=\\ln \\left( \\frac{p_i}{1-p_i} \\right)$ \t|\n",
    "|  probit \t|            $p_i = \\Phi(\\eta_i)$           \t|          $\\eta_i = \\Phi^{-1}(p_i)$          \t|\n",
    "| cauchit \t|   $p_i =0.5+\\frac{\\arctan(\\eta_i)}{\\pi}$  \t|        $\\eta_i = \\tan(\\pi(p_i-0.5))$        \t|\n",
    "|  loglog \t|        $p_i = \\exp(-\\exp(-\\eta_i))$       \t|          $\\eta_i = -\\ln(-\\ln(p_i))$         \t|\n",
    "| cloglog \t|        $p_i=1-\\exp(-\\exp(\\eta_i))$        \t|          $\\eta_i=\\ln(-\\ln(1-p_i))$          \t|\n",
    "\n",
    "</center>\n",
    "\n",
    "- $\\Phi(\\cdot)$ é a fda da distribuição normal padrão."
   ]
  }
 ],
 "metadata": {
  "language_info": {
   "name": "python"
  },
  "orig_nbformat": 4
 },
 "nbformat": 4,
 "nbformat_minor": 2
}
