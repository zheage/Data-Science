{
 "cells": [
  {
   "cell_type": "markdown",
   "metadata": {},
   "source": [
    "# Regressão Binária"
   ]
  },
  {
   "cell_type": "markdown",
   "metadata": {},
   "source": [
    "- [Probit vs Logit](https://vitalflux.com/logit-vs-probit-models-differences-examples/)"
   ]
  },
  {
   "cell_type": "markdown",
   "metadata": {},
   "source": [
    "Modelos de regressão binária são modelos utilizados para classificar uma variável binária _genial, não?_, geralmente representados por 0 e 1.\n",
    "\n",
    "Estamos interessados em modelos de regressão linear, dados pela seguinte fórmula:\n",
    "\n",
    "$$ g(\\mu_i) = \\eta_i = \\beta X $$\n",
    "\n",
    "- Onde $g(\\mu_i)$ é uma função monótona crescente chamada de **função de ligação**;\n",
    "  - Por conta dessa característica, muitas vezes opta-se por utilizar fda's conhecidas para esta função.\n",
    "- Para problemas de classificação binária $g:\\mathbb{R}\\to [0,1]$;\n",
    "\n",
    "As principais funções de ligação para dados binários são:\n",
    "\n",
    "<center>\n",
    "\n",
    "|   Nome  \t|                 $g(\\eta)$                 \t|                $g^{-1}(p_i)$                \t|\n",
    "|:-------:\t|:-----------------------------------------:\t|:-------------------------------------------:\t|\n",
    "|  logit  \t| $p_i = \\frac{\\exp(\\eta)}{1+\\exp(\\eta_i)}$ \t| $\\eta=\\ln \\left( \\frac{p_i}{1-p_i} \\right)$ \t|\n",
    "|  probit \t|            $p_i = \\Phi(\\eta_i)$           \t|          $\\eta_i = \\Phi^{-1}(p_i)$          \t|\n",
    "| cauchit \t|   $p_i =0.5+\\frac{\\arctan(\\eta_i)}{\\pi}$  \t|        $\\eta_i = \\tan(\\pi(p_i-0.5))$        \t|\n",
    "|  loglog \t|        $p_i = \\exp(-\\exp(-\\eta_i))$       \t|          $\\eta_i = -\\ln(-\\ln(p_i))$         \t|\n",
    "| cloglog \t|        $p_i=1-\\exp(-\\exp(\\eta_i))$        \t|          $\\eta_i=\\ln(-\\ln(1-p_i))$          \t|\n",
    "\n",
    "</center>\n",
    "\n",
    "- $\\Phi(\\cdot)$ é a fda da distribuição normal padrão;\n",
    "- Ligação Cauchit é a fda da distribuição Cauchy;\n",
    "- Ligação loglog é a fda da distribuição Gumbel;\n",
    "- Ligação cloglog é o complementar da fda da distribuição Gumbel."
   ]
  },
  {
   "cell_type": "code",
   "execution_count": 64,
   "metadata": {},
   "outputs": [
    {
     "name": "stdout",
     "output_type": "stream",
     "text": [
      "                 Generalized Linear Model Regression Results                  \n",
      "==============================================================================\n",
      "Dep. Variable:                Species   No. Observations:                  150\n",
      "Model:                            GLM   Df Residuals:                      145\n",
      "Model Family:                Binomial   Df Model:                            4\n",
      "Link Function:                  Logit   Scale:                          1.0000\n",
      "Method:                          IRLS   Log-Likelihood:                -5.9493\n",
      "Date:                Tue, 19 Sep 2023   Deviance:                       11.899\n",
      "Time:                        23:53:21   Pearson chi2:                     13.2\n",
      "No. Iterations:                    12   Pseudo R-squ. (CS):             0.6969\n",
      "Covariance Type:            nonrobust                                         \n",
      "=================================================================================\n",
      "                    coef    std err          z      P>|z|      [0.025      0.975]\n",
      "---------------------------------------------------------------------------------\n",
      "Intercept       -42.6378     25.708     -1.659      0.097     -93.024       7.748\n",
      "SepalLengthCm    -2.4652      2.394     -1.030      0.303      -7.158       2.228\n",
      "SepalWidthCm     -6.6809      4.480     -1.491      0.136     -15.461       2.099\n",
      "PetalLengthCm     9.4294      4.737      1.990      0.047       0.145      18.714\n",
      "PetalWidthCm     18.2861      9.743      1.877      0.061      -0.809      37.381\n",
      "=================================================================================\n"
     ]
    }
   ],
   "source": [
    "import pandas as pd\n",
    "import statsmodels.api as sm\n",
    "import statsmodels.formula.api as smf\n",
    "from statsmodels.genmod.families.links import Logit, Probit, LogLog, CLogLog, Power, Cauchy\n",
    "\n",
    "# Preparo da base de dados\n",
    "iris = pd.read_csv(\n",
    "    r\"G:\\Meu Drive\\Data Science\\Bases\\Classificação\\Iris.csv\"\n",
    ")\n",
    "\n",
    "iris.drop('Id', axis = 1, inplace = True)\n",
    "\n",
    "# Transforma o problema em um de classificação binária:\n",
    "iris['Species'].replace(\n",
    "    {\n",
    "        'Iris-setosa' : 0,\n",
    "        'Iris-versicolor' : 0,\n",
    "        'Iris-virginica' : 1\n",
    "    },\n",
    "    inplace = True\n",
    ")\n",
    "\n",
    "# Modelagem\n",
    "\n",
    "iris = sm.add_constant(iris)\n",
    "\n",
    "model = smf.glm(\n",
    "    formula = \"Species ~ SepalLengthCm + SepalWidthCm + PetalLengthCm + PetalWidthCm\",\n",
    "    data = iris,\n",
    "    family = sm.families.Binomial(\n",
    "        link = Logit() \n",
    "    )\n",
    ")\n",
    "\n",
    "result = model.fit()\n",
    "\n",
    "print(result.summary())"
   ]
  }
 ],
 "metadata": {
  "kernelspec": {
   "display_name": "Python 3",
   "language": "python",
   "name": "python3"
  },
  "language_info": {
   "codemirror_mode": {
    "name": "ipython",
    "version": 3
   },
   "file_extension": ".py",
   "mimetype": "text/x-python",
   "name": "python",
   "nbconvert_exporter": "python",
   "pygments_lexer": "ipython3",
   "version": "3.11.2"
  },
  "orig_nbformat": 4
 },
 "nbformat": 4,
 "nbformat_minor": 2
}
