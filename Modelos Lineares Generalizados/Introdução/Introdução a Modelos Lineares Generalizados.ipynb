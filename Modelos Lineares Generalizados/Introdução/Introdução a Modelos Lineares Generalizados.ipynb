{
 "cells": [
  {
   "cell_type": "markdown",
   "metadata": {},
   "source": [
    "# Introdução a Modelos Lineares Generalizados"
   ]
  },
  {
   "cell_type": "markdown",
   "metadata": {},
   "source": [
    "Sejam $Y_1,\\dots, Y_n$ variáveis aleatórias independentes com f.d.p/f.p pertencente a família exponencial:\n",
    "\n",
    "$$f(y_i;\\theta_i, \\phi) = \\exp[\\phi(y_i\\theta_i - b(\\theta_i)) + c(y_i, \\theta)]$$\n",
    "\n",
    "Sob condições usuais de regularidade podemos provar que\n",
    "\n",
    "$$ E[Y_i] = \\mu_i = b'(\\theta_i)$$\n",
    "\n",
    "e\n",
    "\n",
    "$$\\text{Var}(Y_i) = \\phi^{-1} V(\\mu_i)$$\n",
    "\n",
    "onde\n",
    "\n",
    "- $V(\\mu_i)$ é chamado de **função de variância**;\n",
    "- $\\phi^{-1}$ é chamado de parâmetro de **dispersão da distribuição**.\n",
    "\n",
    "Modelos Lineares Generalizados são definidos pela modelagem do valor esperado das variáveis aleatórias através de formas lineares:\n",
    "\n",
    "$$ g(\\mu_i) = \\eta_i = \\beta X $$\n",
    "\n",
    "onde $g(\\cdot)$ é uma função monótona diferenciável, chamada de **função de ligação**."
   ]
  },
  {
   "cell_type": "markdown",
   "metadata": {},
   "source": [
    "# Casos Particulares da Família Exponencial"
   ]
  }
 ],
 "metadata": {
  "language_info": {
   "name": "python"
  },
  "orig_nbformat": 4
 },
 "nbformat": 4,
 "nbformat_minor": 2
}
